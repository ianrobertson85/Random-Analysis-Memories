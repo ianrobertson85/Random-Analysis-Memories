{
 "cells": [
  {
   "cell_type": "code",
   "execution_count": 25,
   "metadata": {
    "collapsed": true
   },
   "outputs": [],
   "source": [
    "import pandas as pd\n",
    "\n",
    "d = eval(open('fileout.out').read())"
   ]
  },
  {
   "cell_type": "code",
   "execution_count": 26,
   "metadata": {
    "collapsed": false
   },
   "outputs": [
    {
     "data": {
      "text/plain": [
       "{'3_bonus_prize': 20,\n",
       " '3_bonus_winners': 104145,\n",
       " u'3_winners': 948444,\n",
       " u'4_prize': 20,\n",
       " u'4_winners': 110069,\n",
       " u'5_prize': 112,\n",
       " u'5_winners': 5137,\n",
       " '6_bonus_prize': 231068,\n",
       " '6_bonus_winners': 2,\n",
       " u'6_prize': 5373,\n",
       " u'6_winners': 86,\n",
       " u'7_prize': 32608919,\n",
       " u'7_winners': 0,\n",
       " 'jackpot': 32608919,\n",
       " 'millions': 0,\n",
       " 'sales': 7547489}"
      ]
     },
     "execution_count": 26,
     "metadata": {},
     "output_type": "execute_result"
    }
   ],
   "source": [
    "d['2011-01-14']"
   ]
  },
  {
   "cell_type": "code",
   "execution_count": 27,
   "metadata": {
    "collapsed": false
   },
   "outputs": [],
   "source": [
    "df = pd.DataFrame.from_dict(d).T"
   ]
  },
  {
   "cell_type": "code",
   "execution_count": 55,
   "metadata": {
    "collapsed": false
   },
   "outputs": [],
   "source": [
    "import matplotlib.pyplot as plt\n",
    "\n",
    "plt.subplot(111)\n",
    "plt.scatter(df['jackpot']/1000000, df['sales']/1000000, s=150, \n",
    "            c=df['test2'].tolist(), cmap='jet', alpha=0.5)\n",
    "\n",
    "plt.show()"
   ]
  },
  {
   "cell_type": "code",
   "execution_count": 29,
   "metadata": {
    "collapsed": false
   },
   "outputs": [
    {
     "data": {
      "text/html": [
       "<div style=\"max-height:1000px;max-width:1500px;overflow:auto;\">\n",
       "<table border=\"1\" class=\"dataframe\">\n",
       "  <thead>\n",
       "    <tr style=\"text-align: right;\">\n",
       "      <th></th>\n",
       "      <th>3_bonus_prize</th>\n",
       "      <th>3_bonus_winners</th>\n",
       "      <th>3_winners</th>\n",
       "      <th>4_prize</th>\n",
       "      <th>4_winners</th>\n",
       "      <th>5_prize</th>\n",
       "      <th>5_winners</th>\n",
       "      <th>6_bonus_prize</th>\n",
       "      <th>6_bonus_winners</th>\n",
       "      <th>6_prize</th>\n",
       "      <th>6_winners</th>\n",
       "      <th>7_prize</th>\n",
       "      <th>7_winners</th>\n",
       "      <th>jackpot</th>\n",
       "      <th>millions</th>\n",
       "      <th>sales</th>\n",
       "    </tr>\n",
       "  </thead>\n",
       "  <tbody>\n",
       "    <tr>\n",
       "      <th>2010-06-18</th>\n",
       "      <td> 20</td>\n",
       "      <td> 319247</td>\n",
       "      <td> 3065240</td>\n",
       "      <td> 20</td>\n",
       "      <td> 346200</td>\n",
       "      <td> 126</td>\n",
       "      <td> 15445</td>\n",
       "      <td> 409012</td>\n",
       "      <td> 6</td>\n",
       "      <td> 6548</td>\n",
       "      <td> 238</td>\n",
       "      <td> 50000000</td>\n",
       "      <td> 0</td>\n",
       "      <td> 95000000</td>\n",
       "      <td> 45</td>\n",
       "      <td> 24844183</td>\n",
       "    </tr>\n",
       "    <tr>\n",
       "      <th>2010-06-25</th>\n",
       "      <td> 20</td>\n",
       "      <td> 323275</td>\n",
       "      <td> 3053904</td>\n",
       "      <td> 20</td>\n",
       "      <td> 343838</td>\n",
       "      <td> 129</td>\n",
       "      <td> 15141</td>\n",
       "      <td> 289654</td>\n",
       "      <td> 6</td>\n",
       "      <td> 6136</td>\n",
       "      <td> 256</td>\n",
       "      <td> 25000000</td>\n",
       "      <td> 2</td>\n",
       "      <td> 74000000</td>\n",
       "      <td> 49</td>\n",
       "      <td> 24976698</td>\n",
       "    </tr>\n",
       "  </tbody>\n",
       "</table>\n",
       "</div>"
      ],
      "text/plain": [
       "            3_bonus_prize  3_bonus_winners  3_winners  4_prize  4_winners  \\\n",
       "2010-06-18             20           319247    3065240       20     346200   \n",
       "2010-06-25             20           323275    3053904       20     343838   \n",
       "\n",
       "            5_prize  5_winners  6_bonus_prize  6_bonus_winners  6_prize  \\\n",
       "2010-06-18      126      15445         409012                6     6548   \n",
       "2010-06-25      129      15141         289654                6     6136   \n",
       "\n",
       "            6_winners   7_prize  7_winners   jackpot  millions     sales  \n",
       "2010-06-18        238  50000000          0  95000000        45  24844183  \n",
       "2010-06-25        256  25000000          2  74000000        49  24976698  "
      ]
     },
     "execution_count": 29,
     "metadata": {},
     "output_type": "execute_result"
    }
   ],
   "source": [
    "df[df['sales']>20000000]"
   ]
  },
  {
   "cell_type": "code",
   "execution_count": 42,
   "metadata": {
    "collapsed": false
   },
   "outputs": [],
   "source": [
    "df['testo'] = df.index"
   ]
  },
  {
   "cell_type": "code",
   "execution_count": 45,
   "metadata": {
    "collapsed": false
   },
   "outputs": [],
   "source": [
    "\n",
    "df['test2'] = df['testo'].apply(lambda x: (int(x[0:4]) - 2009) / 6.0)"
   ]
  },
  {
   "cell_type": "code",
   "execution_count": 46,
   "metadata": {
    "collapsed": false
   },
   "outputs": [
    {
     "data": {
      "text/plain": [
       "2009-09-25    0.000000\n",
       "2009-10-02    0.000000\n",
       "2009-10-09    0.000000\n",
       "2009-10-16    0.000000\n",
       "2009-10-23    0.000000\n",
       "2009-10-30    0.000000\n",
       "2009-11-06    0.000000\n",
       "2009-11-13    0.000000\n",
       "2009-11-20    0.000000\n",
       "2009-11-27    0.000000\n",
       "2009-12-04    0.000000\n",
       "2009-12-11    0.000000\n",
       "2009-12-18    0.000000\n",
       "2009-12-25    0.000000\n",
       "2010-01-01    0.166667\n",
       "...\n",
       "2015-03-27    1\n",
       "2015-04-03    1\n",
       "2015-04-10    1\n",
       "2015-04-17    1\n",
       "2015-04-24    1\n",
       "2015-05-01    1\n",
       "2015-05-08    1\n",
       "2015-05-15    1\n",
       "2015-05-22    1\n",
       "2015-05-29    1\n",
       "2015-06-05    1\n",
       "2015-06-12    1\n",
       "2015-06-19    1\n",
       "2015-06-26    1\n",
       "2015-07-03    1\n",
       "Name: test2, Length: 302, dtype: float64"
      ]
     },
     "execution_count": 46,
     "metadata": {},
     "output_type": "execute_result"
    }
   ],
   "source": [
    "df['test2']"
   ]
  },
  {
   "cell_type": "code",
   "execution_count": 62,
   "metadata": {
    "collapsed": false
   },
   "outputs": [
    {
     "name": "stdout",
     "output_type": "stream",
     "text": [
      "1218241.3292\n"
     ]
    }
   ],
   "source": [
    "#Setup\n",
    "annual_i = 0.025\n",
    "years = 35\n",
    "per_week = 1000\n",
    "\n",
    "#Calculated\n",
    "periods = years * 52\n",
    "i = (1 + annual_i) ** (1.0/52.0)  - 1\n",
    "\n",
    "pv = per_week * (1-(1+i) ** -periods) / i\n",
    "print pv"
   ]
  },
  {
   "cell_type": "code",
   "execution_count": null,
   "metadata": {
    "collapsed": true
   },
   "outputs": [],
   "source": []
  }
 ],
 "metadata": {
  "kernelspec": {
   "display_name": "Python 2",
   "language": "python",
   "name": "python2"
  },
  "language_info": {
   "codemirror_mode": {
    "name": "ipython",
    "version": 2
   },
   "file_extension": ".py",
   "mimetype": "text/x-python",
   "name": "python",
   "nbconvert_exporter": "python",
   "pygments_lexer": "ipython2",
   "version": "2.7.8"
  }
 },
 "nbformat": 4,
 "nbformat_minor": 0
}
