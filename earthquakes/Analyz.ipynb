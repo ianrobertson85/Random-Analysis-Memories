{
 "metadata": {
  "name": "",
  "signature": "sha256:8b840b168fe8b82a24f12791ea2224c2d5ee2bb888b5bb27bbeb0a829f7d81f7"
 },
 "nbformat": 3,
 "nbformat_minor": 0,
 "worksheets": [
  {
   "cells": [
    {
     "cell_type": "code",
     "collapsed": false,
     "input": [
      "import pandas as pd\n",
      "import matplotlib.pyplot as plt\n",
      "import matplotlib as mpl\n",
      "\n",
      "\n",
      "filename = 'data/2014.csv'\n",
      "df = pd.read_csv(filename)"
     ],
     "language": "python",
     "metadata": {},
     "outputs": [],
     "prompt_number": 1
    },
    {
     "cell_type": "code",
     "collapsed": false,
     "input": [
      "df.columns"
     ],
     "language": "python",
     "metadata": {},
     "outputs": [
      {
       "metadata": {},
       "output_type": "pyout",
       "prompt_number": 2,
       "text": [
        "Index([u'id', u'origintime', u'latitude', u'longitude', u'depth', u'err_lon', u'err_lat', u'err_depth', u'err_origintime', u'county', u'origin_src', u'prefmag', u'pmag_type', u'pmag_src', u'mw', u'mw_src', u'mblg_ogs', u'mblg_usgs', u'ml_ogs', u'm3hz_ogs', u'md_ogs', u'mb', u'ms', u'mfa', u'max_mmi', u'reafile', u'reamtime', u'geom', u'pdlid', u'mw_ogs'], dtype='object')"
       ]
      }
     ],
     "prompt_number": 2
    },
    {
     "cell_type": "code",
     "collapsed": false,
     "input": [
      "fig, ax = plt.subplots(nrows=1, ncols=1, sharex=True, sharey=True, figsize=(6,6))\n",
      "plt.plot(df['longitude'], df['latitude'], linewidth=0)\n",
      "ax.set_title('Overall Results', fontsize=12)\n",
      "plt.tight_layout()\n",
      "plt.show()\n"
     ],
     "language": "python",
     "metadata": {},
     "outputs": []
    },
    {
     "cell_type": "code",
     "collapsed": false,
     "input": [
      "help(plt.plot)"
     ],
     "language": "python",
     "metadata": {},
     "outputs": []
    },
    {
     "cell_type": "code",
     "collapsed": false,
     "input": [],
     "language": "python",
     "metadata": {},
     "outputs": []
    }
   ],
   "metadata": {}
  }
 ]
}