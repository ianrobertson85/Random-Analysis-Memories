{
 "metadata": {
  "name": "",
  "signature": "sha256:3ffced45bd42fcfaec7ca19b8c77d94f835ad181c18062eb0f361c38211b52f3"
 },
 "nbformat": 3,
 "nbformat_minor": 0,
 "worksheets": [
  {
   "cells": [
    {
     "cell_type": "code",
     "collapsed": false,
     "input": [
      "filename = 'files/file_out.dat'\n",
      "\n",
      "# Now open the file and write it out.    \n",
      "f = open(filename, 'r')\n",
      "txt = f.read().splitlines()\n",
      "fields = [i.split('|') for i in txt]\n",
      "f.close()\n",
      "\n",
      "print fields[0:2]"
     ],
     "language": "python",
     "metadata": {},
     "outputs": [
      {
       "output_type": "stream",
       "stream": "stdout",
       "text": [
        "[['0820224521', '504', '4180', '43.6499669', '-79.3741', '90', '504_1_504Con', '253'], ['0820224521', '504', '4012', '43.6208839', '-79.505203', '73', '', '-4']]\n"
       ]
      }
     ],
     "prompt_number": 1
    },
    {
     "cell_type": "markdown",
     "metadata": {},
     "source": [
      "##What to do\n",
      "1. Animate a day in the life?\n",
      "2. "
     ]
    },
    {
     "cell_type": "code",
     "collapsed": false,
     "input": [],
     "language": "python",
     "metadata": {},
     "outputs": []
    }
   ],
   "metadata": {}
  }
 ]
}