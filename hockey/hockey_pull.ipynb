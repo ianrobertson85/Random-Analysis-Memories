{
 "metadata": {
  "name": "",
  "signature": "sha256:626451af959e47ade4cc3787c98da85758fdba84b05b6a14e6a4bf7d7cda3704"
 },
 "nbformat": 3,
 "nbformat_minor": 0,
 "worksheets": [
  {
   "cells": [
    {
     "cell_type": "code",
     "collapsed": false,
     "input": [
      "from bs4 import BeautifulSoup\n",
      "import requests\n",
      "import time\n",
      "import json\n",
      "import operator\n",
      "import os"
     ],
     "language": "python",
     "metadata": {},
     "outputs": [],
     "prompt_number": 2
    },
    {
     "cell_type": "code",
     "collapsed": false,
     "input": [
      "#grabs the screens - only have to do it once.\n",
      "baseurl = 'http://www.hockeydb.com/ihdb/players/player_ind_'\n",
      "\n",
      "letters = 'abcdefghijklmnopqrstuvwyz'\n",
      "\n",
      "#Loops through 25 (no x) and grabs the data into files\n",
      "for i in range(11, len(letters)):\n",
      "    url = baseurl + letters[i] + '.html'\n",
      "    page = requests.get(url)\n",
      "    txt = page.text\n",
      "    \n",
      "    filename = 'player_lists/' + letters[i] + '.out'\n",
      "    f = open(filename, 'w')\n",
      "    f.write(txt)\n",
      "    \n",
      "    #Sleeps a couple of seconds so the internet doesnt hate me    \n",
      "    time.sleep(60)"
     ],
     "language": "python",
     "metadata": {},
     "outputs": [],
     "prompt_number": 2
    },
    {
     "cell_type": "code",
     "collapsed": false,
     "input": [
      "# Reads the data into a list of dictionaries\n",
      "dirname = 'player_lists'\n",
      "\n",
      "files = os.listdir(dirname)\n",
      "files.sort()\n",
      "all_players = []\n",
      "\n",
      "for filename in files:\n",
      "    if filename [-3::] == 'out':\n",
      "        print filename[0],\n",
      "        f = open(dirname + '/' + filename, 'r')\n",
      "        txt = f.read()\n",
      "        f.close()\n",
      "        \n",
      "        soup = BeautifulSoup(txt)\n",
      "\n",
      "        res = soup.find('tbody')    \n",
      "        trs = res.find_all('tr')\n",
      "\n",
      "        for tr in trs:\n",
      "            tds = tr.find_all('td')\n",
      "            # Grabs the variables\n",
      "            this_player = {}\n",
      "            this_player['name'] = tds[0].text\n",
      "            this_player['position'] = tds[1].text\n",
      "            this_player['birthdate'] = tds[2].text\n",
      "            this_player['birthplace'] = tds[3].text\n",
      "            this_player['seasons'] = tds[4].text\n",
      "            this_player['gp'] = int(tds[5].text)\n",
      "            this_player['g'] = int(tds[6].text)\n",
      "            this_player['a'] = int(tds[7].text)\n",
      "            this_player['pts'] = int(tds[8].text)\n",
      "            this_player['pim'] = int(tds[9].text)\n",
      "            this_player['yrs'] = int(tds[10].text)\n",
      "\n",
      "            this_player['season_start'] = int(this_player['seasons'].split('-')[0])\n",
      "            this_player['season_end'] = int(this_player['seasons'].split('-')[1])\n",
      "\n",
      "            #appends\n",
      "            all_players.append(this_player)\n",
      "\n",
      "\n",
      "print \"Number of players:\", len(all_players)\n",
      "print \"First player:\", all_players[0]\n",
      "print \"Last player:\", all_players[-1]"
     ],
     "language": "python",
     "metadata": {},
     "outputs": [
      {
       "output_type": "stream",
       "stream": "stdout",
       "text": [
        "a "
       ]
      },
      {
       "output_type": "stream",
       "stream": "stdout",
       "text": [
        "b "
       ]
      },
      {
       "output_type": "stream",
       "stream": "stdout",
       "text": [
        "c "
       ]
      },
      {
       "output_type": "stream",
       "stream": "stdout",
       "text": [
        "d "
       ]
      },
      {
       "output_type": "stream",
       "stream": "stdout",
       "text": [
        "e "
       ]
      },
      {
       "output_type": "stream",
       "stream": "stdout",
       "text": [
        "f "
       ]
      },
      {
       "output_type": "stream",
       "stream": "stdout",
       "text": [
        "g "
       ]
      },
      {
       "output_type": "stream",
       "stream": "stdout",
       "text": [
        "h "
       ]
      },
      {
       "output_type": "stream",
       "stream": "stdout",
       "text": [
        "i "
       ]
      },
      {
       "output_type": "stream",
       "stream": "stdout",
       "text": [
        "j "
       ]
      },
      {
       "output_type": "stream",
       "stream": "stdout",
       "text": [
        "k "
       ]
      },
      {
       "output_type": "stream",
       "stream": "stdout",
       "text": [
        "l "
       ]
      },
      {
       "output_type": "stream",
       "stream": "stdout",
       "text": [
        "m "
       ]
      },
      {
       "output_type": "stream",
       "stream": "stdout",
       "text": [
        "n "
       ]
      },
      {
       "output_type": "stream",
       "stream": "stdout",
       "text": [
        "o "
       ]
      },
      {
       "output_type": "stream",
       "stream": "stdout",
       "text": [
        "p "
       ]
      },
      {
       "output_type": "stream",
       "stream": "stdout",
       "text": [
        "q "
       ]
      },
      {
       "output_type": "stream",
       "stream": "stdout",
       "text": [
        "r "
       ]
      },
      {
       "output_type": "stream",
       "stream": "stdout",
       "text": [
        "s "
       ]
      },
      {
       "output_type": "stream",
       "stream": "stdout",
       "text": [
        "t "
       ]
      },
      {
       "output_type": "stream",
       "stream": "stdout",
       "text": [
        "u "
       ]
      },
      {
       "output_type": "stream",
       "stream": "stdout",
       "text": [
        "v "
       ]
      },
      {
       "output_type": "stream",
       "stream": "stdout",
       "text": [
        "w "
       ]
      },
      {
       "output_type": "stream",
       "stream": "stdout",
       "text": [
        "y "
       ]
      },
      {
       "output_type": "stream",
       "stream": "stdout",
       "text": [
        "z "
       ]
      },
      {
       "output_type": "stream",
       "stream": "stdout",
       "text": [
        "Number of players: 7127\n",
        "First player: {'a': 17, 'birthplace': u'Lappeenranta, Finland', 'name': u'Antti Aalto', 'g': 11, 'gp': 151, 'season_end': 2001, 'birthdate': u'03/04/1975', 'seasons': u'1997-2001', 'position': u'C', 'yrs': 4, 'pts': 28, 'season_start': 1997, 'pim': 52}\n",
        "Last player: {'a': 82, 'birthplace': u'Ufa, Russia', 'name': u'Andrei Zyuzin', 'g': 38, 'gp': 496, 'season_end': 2008, 'birthdate': u'01/21/1978', 'seasons': u'1997-2008', 'position': u'D', 'yrs': 10, 'pts': 120, 'season_start': 1997, 'pim': 446}\n"
       ]
      }
     ],
     "prompt_number": 3
    },
    {
     "cell_type": "code",
     "collapsed": false,
     "input": [
      "# Grabs all birthplaces\n",
      "birthplaces = {}\n",
      "for player in all_players:\n",
      "    try:\n",
      "        birthplaces[player['birthplace']] += 1\n",
      "    except:\n",
      "        birthplaces[player['birthplace']] = 1\n",
      "\n",
      "#Checks some things out\n",
      "print len(birthplaces)\n",
      "print birthplaces['Toronto, ONT']\n",
      "print birthplaces.keys()[0:20]\n",
      "\n",
      "f = open('outter.txt', 'w')\n",
      "\n",
      "for b in birthplaces.keys():\n",
      "    f.write(b + '|' + str(birthplaces[b]) + '\\n')\n",
      "f.close()"
     ],
     "language": "python",
     "metadata": {},
     "outputs": [
      {
       "output_type": "stream",
       "stream": "stdout",
       "text": [
        "1980\n",
        "394\n",
        "[u'', u'Sexsmith, ALTA', u'Pavlodor, Russia', u'Shippagan, NB', u'Jakobstad, Finland', u'Dubnica, Slovakia', u'Marlborough, MA', u'Stonewall, MAN', u'Bromma, Sweden', u'Angarsk, USSR', u'Trencin, Slovakia', u'Humber Summit, ONT', u'Plymouth, England', u'New Brunswick, NJ', u'Stirling, ONT', u'Opava, Czech', u'Pefferlaw, ONT', u'Gothenburg, Sweden', u'Rouyn Noranda, PQ', u'Masham, PQ']\n"
       ]
      }
     ],
     "prompt_number": 4
    },
    {
     "cell_type": "code",
     "collapsed": false,
     "input": [
      "#This bit pulls out google maps results for a somewhat-cleaned up version of birth-places.\n",
      "api_key = open('api_key.txt').read()\n",
      "goog_url = 'https://maps.googleapis.com/maps/api/geocode/json?address='\n",
      "goog_file = 'google_results.txt'\n",
      "\n",
      "all_cities = {}\n",
      "\n",
      "for birthplace in birthplaces.keys():\n",
      "    #Only call Google if there's a legit city, not missing\n",
      "    if birthplace != '' and birthplace.find('nbsp') < 0:\n",
      "        \n",
      "        new_birth = birthplace.replace(', ALTA', ', AB')\n",
      "        new_birth = new_birth.replace(', ONT', ', ON')\n",
      "        new_birth = new_birth.replace(', MAN', ', MB')\n",
      "        new_birth = new_birth.replace(', PQ', ', QC')\n",
      "        new_birth = new_birth.replace(', SASK', ', SK')\n",
      "        new_birth = new_birth.replace(', NFLD', ', NL')\n",
      "        \n",
      "        url = goog_url + new_birth.replace(' ', '+') + '&key=' + api_key\n",
      "        page = requests.get(url)\n",
      "        txt = page.text\n",
      "        data_string = json.loads(txt)\n",
      "        status = data_string['status']\n",
      "        if status == 'OK':\n",
      "            lat = data_string['results'][0]['geometry']['location']['lat']\n",
      "            lng = data_string['results'][0]['geometry']['location']['lng']\n",
      "            formatted = data_string['results'][0]['formatted_address']\n",
      "        else:\n",
      "            lat = 0.0\n",
      "            lng = 0.0\n",
      "            formatted = ''\n",
      "        \n",
      "        all_cities[birthplace] = [new_birth, status, formatted, lat, lng]\n",
      "        f = open(goog_file, 'a')\n",
      "        f.write(birthplace + '|' + status + '|' + str(lat) + '|' + str(lng) + '\\n')\n",
      "        f.close()\n",
      "    \n",
      "    #Sleeps for a little bit\n",
      "    time.sleep(3)\n",
      "    \n",
      "\n",
      "\n"
     ],
     "language": "python",
     "metadata": {},
     "outputs": [],
     "prompt_number": 34
    },
    {
     "cell_type": "code",
     "collapsed": false,
     "input": [
      "#Here's the bad ones that I can't get Google to deal with\n",
      "for city in all_cities.keys():\n",
      "    if all_cities[city][1] != 'OK':\n",
      "        print city, birthplaces[city], all_cities[city]"
     ],
     "language": "python",
     "metadata": {},
     "outputs": []
    },
    {
     "cell_type": "code",
     "collapsed": false,
     "input": [
      "#Read in the google results, don't need to keep pulling\n",
      "goog_file = 'google_results.txt'\n",
      "\n",
      "all_cities = {}\n",
      "f = open(goog_file)\n",
      "txt = f.read()\n",
      "\n",
      "f.close()\n",
      "for r in txt.splitlines():\n",
      "    all_cities[r.split('|')[0]] = r.split('|')\n",
      "    \n",
      "#Check it out\n",
      "print all_cities['Toronto, ONT']"
     ],
     "language": "python",
     "metadata": {},
     "outputs": [
      {
       "output_type": "stream",
       "stream": "stdout",
       "text": [
        "['Toronto, ONT', 'OK', '43.653226', '-79.3831843']\n"
       ]
      }
     ],
     "prompt_number": 7
    },
    {
     "cell_type": "code",
     "collapsed": false,
     "input": [
      "min_year = 1917\n",
      "max_year = 2014\n",
      "outfile = 'for_carto.csv'\n",
      "\n",
      "years = []\n",
      "\n",
      "f = open(outfile, 'w')\n",
      "f.write('year,cnt_players,cnt_addresses,avg_long,avg_lat\\n')\n",
      "\n",
      "for year in range(min_year, max_year + 1):\n",
      "    cnt_player = 0\n",
      "    cnt_addresses = 0\n",
      "    ttl_lat = 0\n",
      "    ttl_long = 0\n",
      "    for player in all_players:\n",
      "        if player['season_start'] <= year and player['season_end'] >= year:\n",
      "            cnt_player += 1\n",
      "            if player['birthplace'] != '' and player['birthplace'].find('nbsp') < 0:\n",
      "                if float(all_cities[player['birthplace']][2]) > 0:\n",
      "                    cnt_addresses += 1\n",
      "                    ttl_lat += float(all_cities[player['birthplace']][2])\n",
      "                    ttl_long += float(all_cities[player['birthplace']][3])\n",
      "    \n",
      "    if cnt_addresses > 0:\n",
      "        avg_lat = ttl_lat / cnt_addresses\n",
      "        avg_long = ttl_long / cnt_addresses\n",
      "    else:\n",
      "        avg_lat, avg_long = (0,0)\n",
      "    \n",
      "    f.write(str(year) + ',' + str(cnt_player) + ',' + str(cnt_addresses) + ',' + str(avg_long) + ',' + str(avg_lat) + '\\n')\n",
      "\n",
      "f.close()"
     ],
     "language": "python",
     "metadata": {},
     "outputs": [],
     "prompt_number": 12
    }
   ],
   "metadata": {}
  }
 ]
}