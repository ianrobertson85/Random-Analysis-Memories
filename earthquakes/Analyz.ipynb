{
 "metadata": {
  "name": "",
  "signature": "sha256:a0e1aaca519ad68aa7b82f7632b81bcfbc6fffceef275a2efa6e2abbc333f1e9"
 },
 "nbformat": 3,
 "nbformat_minor": 0,
 "worksheets": [
  {
   "cells": [
    {
     "cell_type": "code",
     "collapsed": false,
     "input": [
      "import pandas as pd\n",
      "import matplotlib.pyplot as plt\n",
      "import matplotlib as mpl\n",
      "\n",
      "dfs = [pd.read_csv('data/' + str(year) + '.csv') for year in range(2008,2016)]"
     ],
     "language": "python",
     "metadata": {},
     "outputs": [],
     "prompt_number": 7
    },
    {
     "cell_type": "code",
     "collapsed": false,
     "input": [
      "colours = [\n",
      "    '#0000FF',\n",
      "    '#0D00F2',\n",
      "    '#1A00E6',\n",
      "    '#2600D9',\n",
      "    '#3300CC',\n",
      "    '#4000BF',\n",
      "    '#4C00B2',\n",
      "    '#5900A6',\n",
      "    '#660099',\n",
      "    '#73008C',\n",
      "    '#800080',\n",
      "    '#8C0073',\n",
      "    '#990066',\n",
      "    '#A60059',\n",
      "    '#B2004D',\n",
      "    '#BF0040',\n",
      "    '#CC0033',\n",
      "    '#D90026',\n",
      "    '#E60019',\n",
      "    '#F2000D',\n",
      "    '#FF0000'\n",
      "    ]\n",
      "fig, ax = plt.subplots(nrows=1, ncols=1, sharex=True, sharey=True, figsize=(10,4))\n",
      "\n",
      "plt.xlim(-103.25,-94.4)\n",
      "plt.ylim(33.5,37.0)\n",
      "ax.set_title('Earthquakes!', fontsize=12)\n",
      "plt.tight_layout()\n",
      "\n",
      "for col, df, year in zip(colours, dfs, range(2008,2016)):\n",
      "    plt.plot(df['longitude'], df['latitude'], markersize=10, color=col, marker = '.', linestyle='None')\n",
      "    plt.savefig('out_' + str(year) + '.png')\n",
      "#plt.show()\n"
     ],
     "language": "python",
     "metadata": {},
     "outputs": [],
     "prompt_number": 12
    },
    {
     "cell_type": "code",
     "collapsed": false,
     "input": [],
     "language": "python",
     "metadata": {},
     "outputs": []
    }
   ],
   "metadata": {}
  }
 ]
}